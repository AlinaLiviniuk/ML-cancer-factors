{
 "cells": [
  {
   "cell_type": "markdown",
   "metadata": {},
   "source": [
    "## Cancer Project\n",
    "### Alina Liviniuk\n",
    "### Skoltech 2017"
   ]
  },
  {
   "cell_type": "code",
   "execution_count": 1,
   "metadata": {
    "scrolled": false
   },
   "outputs": [
    {
     "data": {
      "text/html": [
       "<div>\n",
       "<style>\n",
       "    .dataframe thead tr:only-child th {\n",
       "        text-align: right;\n",
       "    }\n",
       "\n",
       "    .dataframe thead th {\n",
       "        text-align: left;\n",
       "    }\n",
       "\n",
       "    .dataframe tbody tr th {\n",
       "        vertical-align: top;\n",
       "    }\n",
       "</style>\n",
       "<table border=\"1\" class=\"dataframe\">\n",
       "  <thead>\n",
       "    <tr style=\"text-align: right;\">\n",
       "      <th></th>\n",
       "      <th>Age</th>\n",
       "      <th>Number of sexual partners</th>\n",
       "      <th>First sexual intercourse</th>\n",
       "      <th>Num of pregnancies</th>\n",
       "      <th>Smokes</th>\n",
       "      <th>Smokes (years)</th>\n",
       "      <th>Smokes (packs/year)</th>\n",
       "      <th>Hormonal Contraceptives</th>\n",
       "      <th>Hormonal Contraceptives (years)</th>\n",
       "      <th>IUD</th>\n",
       "      <th>...</th>\n",
       "      <th>STDs: Time since first diagnosis</th>\n",
       "      <th>STDs: Time since last diagnosis</th>\n",
       "      <th>Dx:Cancer</th>\n",
       "      <th>Dx:CIN</th>\n",
       "      <th>Dx:HPV</th>\n",
       "      <th>Dx</th>\n",
       "      <th>Hinselmann</th>\n",
       "      <th>Schiller</th>\n",
       "      <th>Citology</th>\n",
       "      <th>Biopsy</th>\n",
       "    </tr>\n",
       "  </thead>\n",
       "  <tbody>\n",
       "    <tr>\n",
       "      <th>0</th>\n",
       "      <td>18.0</td>\n",
       "      <td>4.0</td>\n",
       "      <td>15.0</td>\n",
       "      <td>1.0</td>\n",
       "      <td>0.0</td>\n",
       "      <td>0.0</td>\n",
       "      <td>0.0</td>\n",
       "      <td>0.0</td>\n",
       "      <td>0.0</td>\n",
       "      <td>0.0</td>\n",
       "      <td>...</td>\n",
       "      <td>NaN</td>\n",
       "      <td>NaN</td>\n",
       "      <td>0.0</td>\n",
       "      <td>0.0</td>\n",
       "      <td>0.0</td>\n",
       "      <td>0.0</td>\n",
       "      <td>0.0</td>\n",
       "      <td>0.0</td>\n",
       "      <td>0.0</td>\n",
       "      <td>0.0</td>\n",
       "    </tr>\n",
       "    <tr>\n",
       "      <th>1</th>\n",
       "      <td>15.0</td>\n",
       "      <td>1.0</td>\n",
       "      <td>14.0</td>\n",
       "      <td>1.0</td>\n",
       "      <td>0.0</td>\n",
       "      <td>0.0</td>\n",
       "      <td>0.0</td>\n",
       "      <td>0.0</td>\n",
       "      <td>0.0</td>\n",
       "      <td>0.0</td>\n",
       "      <td>...</td>\n",
       "      <td>NaN</td>\n",
       "      <td>NaN</td>\n",
       "      <td>0.0</td>\n",
       "      <td>0.0</td>\n",
       "      <td>0.0</td>\n",
       "      <td>0.0</td>\n",
       "      <td>0.0</td>\n",
       "      <td>0.0</td>\n",
       "      <td>0.0</td>\n",
       "      <td>0.0</td>\n",
       "    </tr>\n",
       "    <tr>\n",
       "      <th>2</th>\n",
       "      <td>34.0</td>\n",
       "      <td>1.0</td>\n",
       "      <td>NaN</td>\n",
       "      <td>1.0</td>\n",
       "      <td>0.0</td>\n",
       "      <td>0.0</td>\n",
       "      <td>0.0</td>\n",
       "      <td>0.0</td>\n",
       "      <td>0.0</td>\n",
       "      <td>0.0</td>\n",
       "      <td>...</td>\n",
       "      <td>NaN</td>\n",
       "      <td>NaN</td>\n",
       "      <td>0.0</td>\n",
       "      <td>0.0</td>\n",
       "      <td>0.0</td>\n",
       "      <td>0.0</td>\n",
       "      <td>0.0</td>\n",
       "      <td>0.0</td>\n",
       "      <td>0.0</td>\n",
       "      <td>0.0</td>\n",
       "    </tr>\n",
       "    <tr>\n",
       "      <th>3</th>\n",
       "      <td>52.0</td>\n",
       "      <td>5.0</td>\n",
       "      <td>16.0</td>\n",
       "      <td>4.0</td>\n",
       "      <td>1.0</td>\n",
       "      <td>37.0</td>\n",
       "      <td>37.0</td>\n",
       "      <td>1.0</td>\n",
       "      <td>3.0</td>\n",
       "      <td>0.0</td>\n",
       "      <td>...</td>\n",
       "      <td>NaN</td>\n",
       "      <td>NaN</td>\n",
       "      <td>1.0</td>\n",
       "      <td>0.0</td>\n",
       "      <td>1.0</td>\n",
       "      <td>0.0</td>\n",
       "      <td>0.0</td>\n",
       "      <td>0.0</td>\n",
       "      <td>0.0</td>\n",
       "      <td>0.0</td>\n",
       "    </tr>\n",
       "    <tr>\n",
       "      <th>4</th>\n",
       "      <td>46.0</td>\n",
       "      <td>3.0</td>\n",
       "      <td>21.0</td>\n",
       "      <td>4.0</td>\n",
       "      <td>0.0</td>\n",
       "      <td>0.0</td>\n",
       "      <td>0.0</td>\n",
       "      <td>1.0</td>\n",
       "      <td>15.0</td>\n",
       "      <td>0.0</td>\n",
       "      <td>...</td>\n",
       "      <td>NaN</td>\n",
       "      <td>NaN</td>\n",
       "      <td>0.0</td>\n",
       "      <td>0.0</td>\n",
       "      <td>0.0</td>\n",
       "      <td>0.0</td>\n",
       "      <td>0.0</td>\n",
       "      <td>0.0</td>\n",
       "      <td>0.0</td>\n",
       "      <td>0.0</td>\n",
       "    </tr>\n",
       "  </tbody>\n",
       "</table>\n",
       "<p>5 rows × 36 columns</p>\n",
       "</div>"
      ],
      "text/plain": [
       "    Age  Number of sexual partners  First sexual intercourse  \\\n",
       "0  18.0                        4.0                      15.0   \n",
       "1  15.0                        1.0                      14.0   \n",
       "2  34.0                        1.0                       NaN   \n",
       "3  52.0                        5.0                      16.0   \n",
       "4  46.0                        3.0                      21.0   \n",
       "\n",
       "   Num of pregnancies  Smokes  Smokes (years)  Smokes (packs/year)  \\\n",
       "0                 1.0     0.0             0.0                  0.0   \n",
       "1                 1.0     0.0             0.0                  0.0   \n",
       "2                 1.0     0.0             0.0                  0.0   \n",
       "3                 4.0     1.0            37.0                 37.0   \n",
       "4                 4.0     0.0             0.0                  0.0   \n",
       "\n",
       "   Hormonal Contraceptives  Hormonal Contraceptives (years)  IUD   ...    \\\n",
       "0                      0.0                              0.0  0.0   ...     \n",
       "1                      0.0                              0.0  0.0   ...     \n",
       "2                      0.0                              0.0  0.0   ...     \n",
       "3                      1.0                              3.0  0.0   ...     \n",
       "4                      1.0                             15.0  0.0   ...     \n",
       "\n",
       "   STDs: Time since first diagnosis  STDs: Time since last diagnosis  \\\n",
       "0                               NaN                              NaN   \n",
       "1                               NaN                              NaN   \n",
       "2                               NaN                              NaN   \n",
       "3                               NaN                              NaN   \n",
       "4                               NaN                              NaN   \n",
       "\n",
       "   Dx:Cancer  Dx:CIN  Dx:HPV   Dx  Hinselmann  Schiller  Citology  Biopsy  \n",
       "0        0.0     0.0     0.0  0.0         0.0       0.0       0.0     0.0  \n",
       "1        0.0     0.0     0.0  0.0         0.0       0.0       0.0     0.0  \n",
       "2        0.0     0.0     0.0  0.0         0.0       0.0       0.0     0.0  \n",
       "3        1.0     0.0     1.0  0.0         0.0       0.0       0.0     0.0  \n",
       "4        0.0     0.0     0.0  0.0         0.0       0.0       0.0     0.0  \n",
       "\n",
       "[5 rows x 36 columns]"
      ]
     },
     "execution_count": 1,
     "metadata": {},
     "output_type": "execute_result"
    }
   ],
   "source": [
    "import pandas as pd\n",
    "import numpy as np\n",
    "import seaborn as sns\n",
    "from matplotlib import pyplot as plt\n",
    "\n",
    "sns.set()\n",
    "\n",
    "%matplotlib inline\n",
    " \n",
    "url = 'http://archive.ics.uci.edu/ml/machine-learning-databases/00383/risk_factors_cervical_cancer.csv'\n",
    "data = pd.read_csv(url, dtype=float, na_values='?')\n",
    "\n",
    "data.head(5)"
   ]
  },
  {
   "cell_type": "markdown",
   "metadata": {},
   "source": [
    "Almost all functions have numerical value, some functions ('STDs: Time since first diagnosis', \n",
    "'STDs: Time since last diagnosis') have almost no values"
   ]
  },
  {
   "cell_type": "markdown",
   "metadata": {},
   "source": [
    "# Deleting useless data\n",
    "Following features contain too many gaps (almost all)"
   ]
  },
  {
   "cell_type": "code",
   "execution_count": 2,
   "metadata": {
    "collapsed": true
   },
   "outputs": [],
   "source": [
    "data=data.drop([\"STDs: Time since first diagnosis\", \"STDs: Time since last diagnosis\"], axis=1)"
   ]
  },
  {
   "cell_type": "markdown",
   "metadata": {},
   "source": [
    "## Define X (inputs) and y(outputs)"
   ]
  },
  {
   "cell_type": "markdown",
   "metadata": {},
   "source": [
    "False positive \n",
    "    Biopsy 97%\n",
    "    Cyto 86%    \n",
    "So, Biopsy result is chosen as target (Biopsy positive result = Canser in MOST cases)"
   ]
  },
  {
   "cell_type": "code",
   "execution_count": 3,
   "metadata": {
    "collapsed": true
   },
   "outputs": [],
   "source": [
    "X = list(data)[:-1]\n",
    "y = list(data)[-1:]"
   ]
  },
  {
   "cell_type": "markdown",
   "metadata": {},
   "source": [
    "## Fill in missing data"
   ]
  },
  {
   "cell_type": "code",
   "execution_count": 4,
   "metadata": {
    "collapsed": true
   },
   "outputs": [],
   "source": [
    "for label in X:\n",
    "    data[label] = data[label].fillna(data[label].median())"
   ]
  },
  {
   "cell_type": "code",
   "execution_count": 5,
   "metadata": {},
   "outputs": [
    {
     "name": "stdout",
     "output_type": "stream",
     "text": [
      "<class 'pandas.core.frame.DataFrame'>\n",
      "RangeIndex: 858 entries, 0 to 857\n",
      "Data columns (total 34 columns):\n",
      "Age                                   858 non-null float64\n",
      "Number of sexual partners             858 non-null float64\n",
      "First sexual intercourse              858 non-null float64\n",
      "Num of pregnancies                    858 non-null float64\n",
      "Smokes                                858 non-null float64\n",
      "Smokes (years)                        858 non-null float64\n",
      "Smokes (packs/year)                   858 non-null float64\n",
      "Hormonal Contraceptives               858 non-null float64\n",
      "Hormonal Contraceptives (years)       858 non-null float64\n",
      "IUD                                   858 non-null float64\n",
      "IUD (years)                           858 non-null float64\n",
      "STDs                                  858 non-null float64\n",
      "STDs (number)                         858 non-null float64\n",
      "STDs:condylomatosis                   858 non-null float64\n",
      "STDs:cervical condylomatosis          858 non-null float64\n",
      "STDs:vaginal condylomatosis           858 non-null float64\n",
      "STDs:vulvo-perineal condylomatosis    858 non-null float64\n",
      "STDs:syphilis                         858 non-null float64\n",
      "STDs:pelvic inflammatory disease      858 non-null float64\n",
      "STDs:genital herpes                   858 non-null float64\n",
      "STDs:molluscum contagiosum            858 non-null float64\n",
      "STDs:AIDS                             858 non-null float64\n",
      "STDs:HIV                              858 non-null float64\n",
      "STDs:Hepatitis B                      858 non-null float64\n",
      "STDs:HPV                              858 non-null float64\n",
      "STDs: Number of diagnosis             858 non-null float64\n",
      "Dx:Cancer                             858 non-null float64\n",
      "Dx:CIN                                858 non-null float64\n",
      "Dx:HPV                                858 non-null float64\n",
      "Dx                                    858 non-null float64\n",
      "Hinselmann                            858 non-null float64\n",
      "Schiller                              858 non-null float64\n",
      "Citology                              858 non-null float64\n",
      "Biopsy                                858 non-null float64\n",
      "dtypes: float64(34)\n",
      "memory usage: 228.0 KB\n"
     ]
    }
   ],
   "source": [
    "data.info()"
   ]
  },
  {
   "cell_type": "code",
   "execution_count": 6,
   "metadata": {},
   "outputs": [
    {
     "data": {
      "text/html": [
       "<div>\n",
       "<style>\n",
       "    .dataframe thead tr:only-child th {\n",
       "        text-align: right;\n",
       "    }\n",
       "\n",
       "    .dataframe thead th {\n",
       "        text-align: left;\n",
       "    }\n",
       "\n",
       "    .dataframe tbody tr th {\n",
       "        vertical-align: top;\n",
       "    }\n",
       "</style>\n",
       "<table border=\"1\" class=\"dataframe\">\n",
       "  <thead>\n",
       "    <tr style=\"text-align: right;\">\n",
       "      <th></th>\n",
       "      <th>Biopsy</th>\n",
       "    </tr>\n",
       "  </thead>\n",
       "  <tbody>\n",
       "    <tr>\n",
       "      <th>0</th>\n",
       "      <td>0</td>\n",
       "    </tr>\n",
       "    <tr>\n",
       "      <th>1</th>\n",
       "      <td>0</td>\n",
       "    </tr>\n",
       "    <tr>\n",
       "      <th>2</th>\n",
       "      <td>0</td>\n",
       "    </tr>\n",
       "    <tr>\n",
       "      <th>3</th>\n",
       "      <td>0</td>\n",
       "    </tr>\n",
       "    <tr>\n",
       "      <th>4</th>\n",
       "      <td>0</td>\n",
       "    </tr>\n",
       "  </tbody>\n",
       "</table>\n",
       "</div>"
      ],
      "text/plain": [
       "   Biopsy\n",
       "0       0\n",
       "1       0\n",
       "2       0\n",
       "3       0\n",
       "4       0"
      ]
     },
     "execution_count": 6,
     "metadata": {},
     "output_type": "execute_result"
    }
   ],
   "source": [
    "# set targets to type integer\n",
    "data[y] = data[y].astype(int)\n",
    "data[y].head(5)"
   ]
  },
  {
   "cell_type": "code",
   "execution_count": 7,
   "metadata": {},
   "outputs": [
    {
     "data": {
      "text/html": [
       "<div>\n",
       "<style>\n",
       "    .dataframe thead tr:only-child th {\n",
       "        text-align: right;\n",
       "    }\n",
       "\n",
       "    .dataframe thead th {\n",
       "        text-align: left;\n",
       "    }\n",
       "\n",
       "    .dataframe tbody tr th {\n",
       "        vertical-align: top;\n",
       "    }\n",
       "</style>\n",
       "<table border=\"1\" class=\"dataframe\">\n",
       "  <thead>\n",
       "    <tr style=\"text-align: right;\">\n",
       "      <th></th>\n",
       "      <th>Age</th>\n",
       "      <th>Number of sexual partners</th>\n",
       "      <th>First sexual intercourse</th>\n",
       "      <th>Num of pregnancies</th>\n",
       "      <th>Smokes</th>\n",
       "      <th>Smokes (years)</th>\n",
       "      <th>Smokes (packs/year)</th>\n",
       "      <th>Hormonal Contraceptives</th>\n",
       "      <th>Hormonal Contraceptives (years)</th>\n",
       "      <th>IUD</th>\n",
       "      <th>...</th>\n",
       "      <th>STDs:Hepatitis B</th>\n",
       "      <th>STDs:HPV</th>\n",
       "      <th>STDs: Number of diagnosis</th>\n",
       "      <th>Dx:Cancer</th>\n",
       "      <th>Dx:CIN</th>\n",
       "      <th>Dx:HPV</th>\n",
       "      <th>Dx</th>\n",
       "      <th>Hinselmann</th>\n",
       "      <th>Schiller</th>\n",
       "      <th>Citology</th>\n",
       "    </tr>\n",
       "  </thead>\n",
       "  <tbody>\n",
       "    <tr>\n",
       "      <th>0</th>\n",
       "      <td>18.0</td>\n",
       "      <td>4.0</td>\n",
       "      <td>15.0</td>\n",
       "      <td>1.0</td>\n",
       "      <td>0.0</td>\n",
       "      <td>0.0</td>\n",
       "      <td>0.0</td>\n",
       "      <td>0.0</td>\n",
       "      <td>0.0</td>\n",
       "      <td>0.0</td>\n",
       "      <td>...</td>\n",
       "      <td>0.0</td>\n",
       "      <td>0.0</td>\n",
       "      <td>0.0</td>\n",
       "      <td>0.0</td>\n",
       "      <td>0.0</td>\n",
       "      <td>0.0</td>\n",
       "      <td>0.0</td>\n",
       "      <td>0.0</td>\n",
       "      <td>0.0</td>\n",
       "      <td>0.0</td>\n",
       "    </tr>\n",
       "    <tr>\n",
       "      <th>1</th>\n",
       "      <td>15.0</td>\n",
       "      <td>1.0</td>\n",
       "      <td>14.0</td>\n",
       "      <td>1.0</td>\n",
       "      <td>0.0</td>\n",
       "      <td>0.0</td>\n",
       "      <td>0.0</td>\n",
       "      <td>0.0</td>\n",
       "      <td>0.0</td>\n",
       "      <td>0.0</td>\n",
       "      <td>...</td>\n",
       "      <td>0.0</td>\n",
       "      <td>0.0</td>\n",
       "      <td>0.0</td>\n",
       "      <td>0.0</td>\n",
       "      <td>0.0</td>\n",
       "      <td>0.0</td>\n",
       "      <td>0.0</td>\n",
       "      <td>0.0</td>\n",
       "      <td>0.0</td>\n",
       "      <td>0.0</td>\n",
       "    </tr>\n",
       "    <tr>\n",
       "      <th>2</th>\n",
       "      <td>34.0</td>\n",
       "      <td>1.0</td>\n",
       "      <td>17.0</td>\n",
       "      <td>1.0</td>\n",
       "      <td>0.0</td>\n",
       "      <td>0.0</td>\n",
       "      <td>0.0</td>\n",
       "      <td>0.0</td>\n",
       "      <td>0.0</td>\n",
       "      <td>0.0</td>\n",
       "      <td>...</td>\n",
       "      <td>0.0</td>\n",
       "      <td>0.0</td>\n",
       "      <td>0.0</td>\n",
       "      <td>0.0</td>\n",
       "      <td>0.0</td>\n",
       "      <td>0.0</td>\n",
       "      <td>0.0</td>\n",
       "      <td>0.0</td>\n",
       "      <td>0.0</td>\n",
       "      <td>0.0</td>\n",
       "    </tr>\n",
       "    <tr>\n",
       "      <th>3</th>\n",
       "      <td>52.0</td>\n",
       "      <td>5.0</td>\n",
       "      <td>16.0</td>\n",
       "      <td>4.0</td>\n",
       "      <td>1.0</td>\n",
       "      <td>37.0</td>\n",
       "      <td>37.0</td>\n",
       "      <td>1.0</td>\n",
       "      <td>3.0</td>\n",
       "      <td>0.0</td>\n",
       "      <td>...</td>\n",
       "      <td>0.0</td>\n",
       "      <td>0.0</td>\n",
       "      <td>0.0</td>\n",
       "      <td>1.0</td>\n",
       "      <td>0.0</td>\n",
       "      <td>1.0</td>\n",
       "      <td>0.0</td>\n",
       "      <td>0.0</td>\n",
       "      <td>0.0</td>\n",
       "      <td>0.0</td>\n",
       "    </tr>\n",
       "    <tr>\n",
       "      <th>4</th>\n",
       "      <td>46.0</td>\n",
       "      <td>3.0</td>\n",
       "      <td>21.0</td>\n",
       "      <td>4.0</td>\n",
       "      <td>0.0</td>\n",
       "      <td>0.0</td>\n",
       "      <td>0.0</td>\n",
       "      <td>1.0</td>\n",
       "      <td>15.0</td>\n",
       "      <td>0.0</td>\n",
       "      <td>...</td>\n",
       "      <td>0.0</td>\n",
       "      <td>0.0</td>\n",
       "      <td>0.0</td>\n",
       "      <td>0.0</td>\n",
       "      <td>0.0</td>\n",
       "      <td>0.0</td>\n",
       "      <td>0.0</td>\n",
       "      <td>0.0</td>\n",
       "      <td>0.0</td>\n",
       "      <td>0.0</td>\n",
       "    </tr>\n",
       "  </tbody>\n",
       "</table>\n",
       "<p>5 rows × 33 columns</p>\n",
       "</div>"
      ],
      "text/plain": [
       "    Age  Number of sexual partners  First sexual intercourse  \\\n",
       "0  18.0                        4.0                      15.0   \n",
       "1  15.0                        1.0                      14.0   \n",
       "2  34.0                        1.0                      17.0   \n",
       "3  52.0                        5.0                      16.0   \n",
       "4  46.0                        3.0                      21.0   \n",
       "\n",
       "   Num of pregnancies  Smokes  Smokes (years)  Smokes (packs/year)  \\\n",
       "0                 1.0     0.0             0.0                  0.0   \n",
       "1                 1.0     0.0             0.0                  0.0   \n",
       "2                 1.0     0.0             0.0                  0.0   \n",
       "3                 4.0     1.0            37.0                 37.0   \n",
       "4                 4.0     0.0             0.0                  0.0   \n",
       "\n",
       "   Hormonal Contraceptives  Hormonal Contraceptives (years)  IUD    ...     \\\n",
       "0                      0.0                              0.0  0.0    ...      \n",
       "1                      0.0                              0.0  0.0    ...      \n",
       "2                      0.0                              0.0  0.0    ...      \n",
       "3                      1.0                              3.0  0.0    ...      \n",
       "4                      1.0                             15.0  0.0    ...      \n",
       "\n",
       "   STDs:Hepatitis B  STDs:HPV  STDs: Number of diagnosis  Dx:Cancer  Dx:CIN  \\\n",
       "0               0.0       0.0                        0.0        0.0     0.0   \n",
       "1               0.0       0.0                        0.0        0.0     0.0   \n",
       "2               0.0       0.0                        0.0        0.0     0.0   \n",
       "3               0.0       0.0                        0.0        1.0     0.0   \n",
       "4               0.0       0.0                        0.0        0.0     0.0   \n",
       "\n",
       "   Dx:HPV   Dx  Hinselmann  Schiller  Citology  \n",
       "0     0.0  0.0         0.0       0.0       0.0  \n",
       "1     0.0  0.0         0.0       0.0       0.0  \n",
       "2     0.0  0.0         0.0       0.0       0.0  \n",
       "3     1.0  0.0         0.0       0.0       0.0  \n",
       "4     0.0  0.0         0.0       0.0       0.0  \n",
       "\n",
       "[5 rows x 33 columns]"
      ]
     },
     "execution_count": 7,
     "metadata": {},
     "output_type": "execute_result"
    }
   ],
   "source": [
    "data[X].head(5)"
   ]
  },
  {
   "cell_type": "code",
   "execution_count": 8,
   "metadata": {
    "scrolled": true
   },
   "outputs": [
    {
     "data": {
      "text/html": [
       "<div>\n",
       "<style>\n",
       "    .dataframe thead tr:only-child th {\n",
       "        text-align: right;\n",
       "    }\n",
       "\n",
       "    .dataframe thead th {\n",
       "        text-align: left;\n",
       "    }\n",
       "\n",
       "    .dataframe tbody tr th {\n",
       "        vertical-align: top;\n",
       "    }\n",
       "</style>\n",
       "<table border=\"1\" class=\"dataframe\">\n",
       "  <thead>\n",
       "    <tr style=\"text-align: right;\">\n",
       "      <th></th>\n",
       "      <th>Age</th>\n",
       "      <th>Number of sexual partners</th>\n",
       "      <th>First sexual intercourse</th>\n",
       "      <th>Num of pregnancies</th>\n",
       "      <th>Smokes</th>\n",
       "      <th>Smokes (years)</th>\n",
       "      <th>Smokes (packs/year)</th>\n",
       "      <th>Hormonal Contraceptives</th>\n",
       "      <th>Hormonal Contraceptives (years)</th>\n",
       "      <th>IUD</th>\n",
       "      <th>...</th>\n",
       "      <th>STDs:Hepatitis B</th>\n",
       "      <th>STDs:HPV</th>\n",
       "      <th>STDs: Number of diagnosis</th>\n",
       "      <th>Dx:Cancer</th>\n",
       "      <th>Dx:CIN</th>\n",
       "      <th>Dx:HPV</th>\n",
       "      <th>Dx</th>\n",
       "      <th>Hinselmann</th>\n",
       "      <th>Schiller</th>\n",
       "      <th>Citology</th>\n",
       "    </tr>\n",
       "  </thead>\n",
       "  <tbody>\n",
       "    <tr>\n",
       "      <th>count</th>\n",
       "      <td>858.000000</td>\n",
       "      <td>858.000000</td>\n",
       "      <td>858.000000</td>\n",
       "      <td>858.000000</td>\n",
       "      <td>858.000000</td>\n",
       "      <td>858.000000</td>\n",
       "      <td>858.000000</td>\n",
       "      <td>858.000000</td>\n",
       "      <td>858.000000</td>\n",
       "      <td>858.000000</td>\n",
       "      <td>...</td>\n",
       "      <td>858.000000</td>\n",
       "      <td>858.000000</td>\n",
       "      <td>858.000000</td>\n",
       "      <td>858.000000</td>\n",
       "      <td>858.000000</td>\n",
       "      <td>858.000000</td>\n",
       "      <td>858.000000</td>\n",
       "      <td>858.000000</td>\n",
       "      <td>858.000000</td>\n",
       "      <td>858.000000</td>\n",
       "    </tr>\n",
       "    <tr>\n",
       "      <th>mean</th>\n",
       "      <td>26.820513</td>\n",
       "      <td>2.511655</td>\n",
       "      <td>16.995338</td>\n",
       "      <td>2.257576</td>\n",
       "      <td>0.143357</td>\n",
       "      <td>1.201241</td>\n",
       "      <td>0.446278</td>\n",
       "      <td>0.686480</td>\n",
       "      <td>2.035331</td>\n",
       "      <td>0.096737</td>\n",
       "      <td>...</td>\n",
       "      <td>0.001166</td>\n",
       "      <td>0.002331</td>\n",
       "      <td>0.087413</td>\n",
       "      <td>0.020979</td>\n",
       "      <td>0.010490</td>\n",
       "      <td>0.020979</td>\n",
       "      <td>0.027972</td>\n",
       "      <td>0.040793</td>\n",
       "      <td>0.086247</td>\n",
       "      <td>0.051282</td>\n",
       "    </tr>\n",
       "    <tr>\n",
       "      <th>std</th>\n",
       "      <td>8.497948</td>\n",
       "      <td>1.644759</td>\n",
       "      <td>2.791883</td>\n",
       "      <td>1.400981</td>\n",
       "      <td>0.350641</td>\n",
       "      <td>4.060623</td>\n",
       "      <td>2.210351</td>\n",
       "      <td>0.464194</td>\n",
       "      <td>3.567040</td>\n",
       "      <td>0.295771</td>\n",
       "      <td>...</td>\n",
       "      <td>0.034139</td>\n",
       "      <td>0.048252</td>\n",
       "      <td>0.302545</td>\n",
       "      <td>0.143398</td>\n",
       "      <td>0.101939</td>\n",
       "      <td>0.143398</td>\n",
       "      <td>0.164989</td>\n",
       "      <td>0.197925</td>\n",
       "      <td>0.280892</td>\n",
       "      <td>0.220701</td>\n",
       "    </tr>\n",
       "    <tr>\n",
       "      <th>min</th>\n",
       "      <td>13.000000</td>\n",
       "      <td>1.000000</td>\n",
       "      <td>10.000000</td>\n",
       "      <td>0.000000</td>\n",
       "      <td>0.000000</td>\n",
       "      <td>0.000000</td>\n",
       "      <td>0.000000</td>\n",
       "      <td>0.000000</td>\n",
       "      <td>0.000000</td>\n",
       "      <td>0.000000</td>\n",
       "      <td>...</td>\n",
       "      <td>0.000000</td>\n",
       "      <td>0.000000</td>\n",
       "      <td>0.000000</td>\n",
       "      <td>0.000000</td>\n",
       "      <td>0.000000</td>\n",
       "      <td>0.000000</td>\n",
       "      <td>0.000000</td>\n",
       "      <td>0.000000</td>\n",
       "      <td>0.000000</td>\n",
       "      <td>0.000000</td>\n",
       "    </tr>\n",
       "    <tr>\n",
       "      <th>25%</th>\n",
       "      <td>20.000000</td>\n",
       "      <td>2.000000</td>\n",
       "      <td>15.000000</td>\n",
       "      <td>1.000000</td>\n",
       "      <td>0.000000</td>\n",
       "      <td>0.000000</td>\n",
       "      <td>0.000000</td>\n",
       "      <td>0.000000</td>\n",
       "      <td>0.000000</td>\n",
       "      <td>0.000000</td>\n",
       "      <td>...</td>\n",
       "      <td>0.000000</td>\n",
       "      <td>0.000000</td>\n",
       "      <td>0.000000</td>\n",
       "      <td>0.000000</td>\n",
       "      <td>0.000000</td>\n",
       "      <td>0.000000</td>\n",
       "      <td>0.000000</td>\n",
       "      <td>0.000000</td>\n",
       "      <td>0.000000</td>\n",
       "      <td>0.000000</td>\n",
       "    </tr>\n",
       "    <tr>\n",
       "      <th>50%</th>\n",
       "      <td>25.000000</td>\n",
       "      <td>2.000000</td>\n",
       "      <td>17.000000</td>\n",
       "      <td>2.000000</td>\n",
       "      <td>0.000000</td>\n",
       "      <td>0.000000</td>\n",
       "      <td>0.000000</td>\n",
       "      <td>1.000000</td>\n",
       "      <td>0.500000</td>\n",
       "      <td>0.000000</td>\n",
       "      <td>...</td>\n",
       "      <td>0.000000</td>\n",
       "      <td>0.000000</td>\n",
       "      <td>0.000000</td>\n",
       "      <td>0.000000</td>\n",
       "      <td>0.000000</td>\n",
       "      <td>0.000000</td>\n",
       "      <td>0.000000</td>\n",
       "      <td>0.000000</td>\n",
       "      <td>0.000000</td>\n",
       "      <td>0.000000</td>\n",
       "    </tr>\n",
       "    <tr>\n",
       "      <th>75%</th>\n",
       "      <td>32.000000</td>\n",
       "      <td>3.000000</td>\n",
       "      <td>18.000000</td>\n",
       "      <td>3.000000</td>\n",
       "      <td>0.000000</td>\n",
       "      <td>0.000000</td>\n",
       "      <td>0.000000</td>\n",
       "      <td>1.000000</td>\n",
       "      <td>2.000000</td>\n",
       "      <td>0.000000</td>\n",
       "      <td>...</td>\n",
       "      <td>0.000000</td>\n",
       "      <td>0.000000</td>\n",
       "      <td>0.000000</td>\n",
       "      <td>0.000000</td>\n",
       "      <td>0.000000</td>\n",
       "      <td>0.000000</td>\n",
       "      <td>0.000000</td>\n",
       "      <td>0.000000</td>\n",
       "      <td>0.000000</td>\n",
       "      <td>0.000000</td>\n",
       "    </tr>\n",
       "    <tr>\n",
       "      <th>max</th>\n",
       "      <td>84.000000</td>\n",
       "      <td>28.000000</td>\n",
       "      <td>32.000000</td>\n",
       "      <td>11.000000</td>\n",
       "      <td>1.000000</td>\n",
       "      <td>37.000000</td>\n",
       "      <td>37.000000</td>\n",
       "      <td>1.000000</td>\n",
       "      <td>30.000000</td>\n",
       "      <td>1.000000</td>\n",
       "      <td>...</td>\n",
       "      <td>1.000000</td>\n",
       "      <td>1.000000</td>\n",
       "      <td>3.000000</td>\n",
       "      <td>1.000000</td>\n",
       "      <td>1.000000</td>\n",
       "      <td>1.000000</td>\n",
       "      <td>1.000000</td>\n",
       "      <td>1.000000</td>\n",
       "      <td>1.000000</td>\n",
       "      <td>1.000000</td>\n",
       "    </tr>\n",
       "  </tbody>\n",
       "</table>\n",
       "<p>8 rows × 33 columns</p>\n",
       "</div>"
      ],
      "text/plain": [
       "              Age  Number of sexual partners  First sexual intercourse  \\\n",
       "count  858.000000                 858.000000                858.000000   \n",
       "mean    26.820513                   2.511655                 16.995338   \n",
       "std      8.497948                   1.644759                  2.791883   \n",
       "min     13.000000                   1.000000                 10.000000   \n",
       "25%     20.000000                   2.000000                 15.000000   \n",
       "50%     25.000000                   2.000000                 17.000000   \n",
       "75%     32.000000                   3.000000                 18.000000   \n",
       "max     84.000000                  28.000000                 32.000000   \n",
       "\n",
       "       Num of pregnancies      Smokes  Smokes (years)  Smokes (packs/year)  \\\n",
       "count          858.000000  858.000000      858.000000           858.000000   \n",
       "mean             2.257576    0.143357        1.201241             0.446278   \n",
       "std              1.400981    0.350641        4.060623             2.210351   \n",
       "min              0.000000    0.000000        0.000000             0.000000   \n",
       "25%              1.000000    0.000000        0.000000             0.000000   \n",
       "50%              2.000000    0.000000        0.000000             0.000000   \n",
       "75%              3.000000    0.000000        0.000000             0.000000   \n",
       "max             11.000000    1.000000       37.000000            37.000000   \n",
       "\n",
       "       Hormonal Contraceptives  Hormonal Contraceptives (years)         IUD  \\\n",
       "count               858.000000                       858.000000  858.000000   \n",
       "mean                  0.686480                         2.035331    0.096737   \n",
       "std                   0.464194                         3.567040    0.295771   \n",
       "min                   0.000000                         0.000000    0.000000   \n",
       "25%                   0.000000                         0.000000    0.000000   \n",
       "50%                   1.000000                         0.500000    0.000000   \n",
       "75%                   1.000000                         2.000000    0.000000   \n",
       "max                   1.000000                        30.000000    1.000000   \n",
       "\n",
       "          ...      STDs:Hepatitis B    STDs:HPV  STDs: Number of diagnosis  \\\n",
       "count     ...            858.000000  858.000000                 858.000000   \n",
       "mean      ...              0.001166    0.002331                   0.087413   \n",
       "std       ...              0.034139    0.048252                   0.302545   \n",
       "min       ...              0.000000    0.000000                   0.000000   \n",
       "25%       ...              0.000000    0.000000                   0.000000   \n",
       "50%       ...              0.000000    0.000000                   0.000000   \n",
       "75%       ...              0.000000    0.000000                   0.000000   \n",
       "max       ...              1.000000    1.000000                   3.000000   \n",
       "\n",
       "        Dx:Cancer      Dx:CIN      Dx:HPV          Dx  Hinselmann    Schiller  \\\n",
       "count  858.000000  858.000000  858.000000  858.000000  858.000000  858.000000   \n",
       "mean     0.020979    0.010490    0.020979    0.027972    0.040793    0.086247   \n",
       "std      0.143398    0.101939    0.143398    0.164989    0.197925    0.280892   \n",
       "min      0.000000    0.000000    0.000000    0.000000    0.000000    0.000000   \n",
       "25%      0.000000    0.000000    0.000000    0.000000    0.000000    0.000000   \n",
       "50%      0.000000    0.000000    0.000000    0.000000    0.000000    0.000000   \n",
       "75%      0.000000    0.000000    0.000000    0.000000    0.000000    0.000000   \n",
       "max      1.000000    1.000000    1.000000    1.000000    1.000000    1.000000   \n",
       "\n",
       "         Citology  \n",
       "count  858.000000  \n",
       "mean     0.051282  \n",
       "std      0.220701  \n",
       "min      0.000000  \n",
       "25%      0.000000  \n",
       "50%      0.000000  \n",
       "75%      0.000000  \n",
       "max      1.000000  \n",
       "\n",
       "[8 rows x 33 columns]"
      ]
     },
     "execution_count": 8,
     "metadata": {},
     "output_type": "execute_result"
    }
   ],
   "source": [
    "data[X].describe()"
   ]
  },
  {
   "cell_type": "code",
   "execution_count": 9,
   "metadata": {
    "scrolled": true
   },
   "outputs": [
    {
     "data": {
      "text/html": [
       "<div>\n",
       "<style>\n",
       "    .dataframe thead tr:only-child th {\n",
       "        text-align: right;\n",
       "    }\n",
       "\n",
       "    .dataframe thead th {\n",
       "        text-align: left;\n",
       "    }\n",
       "\n",
       "    .dataframe tbody tr th {\n",
       "        vertical-align: top;\n",
       "    }\n",
       "</style>\n",
       "<table border=\"1\" class=\"dataframe\">\n",
       "  <thead>\n",
       "    <tr style=\"text-align: right;\">\n",
       "      <th></th>\n",
       "      <th>Biopsy</th>\n",
       "    </tr>\n",
       "  </thead>\n",
       "  <tbody>\n",
       "    <tr>\n",
       "      <th>count</th>\n",
       "      <td>858.000000</td>\n",
       "    </tr>\n",
       "    <tr>\n",
       "      <th>mean</th>\n",
       "      <td>0.064103</td>\n",
       "    </tr>\n",
       "    <tr>\n",
       "      <th>std</th>\n",
       "      <td>0.245078</td>\n",
       "    </tr>\n",
       "    <tr>\n",
       "      <th>min</th>\n",
       "      <td>0.000000</td>\n",
       "    </tr>\n",
       "    <tr>\n",
       "      <th>25%</th>\n",
       "      <td>0.000000</td>\n",
       "    </tr>\n",
       "    <tr>\n",
       "      <th>50%</th>\n",
       "      <td>0.000000</td>\n",
       "    </tr>\n",
       "    <tr>\n",
       "      <th>75%</th>\n",
       "      <td>0.000000</td>\n",
       "    </tr>\n",
       "    <tr>\n",
       "      <th>max</th>\n",
       "      <td>1.000000</td>\n",
       "    </tr>\n",
       "  </tbody>\n",
       "</table>\n",
       "</div>"
      ],
      "text/plain": [
       "           Biopsy\n",
       "count  858.000000\n",
       "mean     0.064103\n",
       "std      0.245078\n",
       "min      0.000000\n",
       "25%      0.000000\n",
       "50%      0.000000\n",
       "75%      0.000000\n",
       "max      1.000000"
      ]
     },
     "execution_count": 9,
     "metadata": {},
     "output_type": "execute_result"
    }
   ],
   "source": [
    "data[y].describe()"
   ]
  },
  {
   "cell_type": "markdown",
   "metadata": {},
   "source": [
    "Mean << 0.5\n",
    "So the target data is unbalanced."
   ]
  },
  {
   "cell_type": "code",
   "execution_count": 10,
   "metadata": {},
   "outputs": [
    {
     "data": {
      "text/html": [
       "<div>\n",
       "<style>\n",
       "    .dataframe thead tr:only-child th {\n",
       "        text-align: right;\n",
       "    }\n",
       "\n",
       "    .dataframe thead th {\n",
       "        text-align: left;\n",
       "    }\n",
       "\n",
       "    .dataframe tbody tr th {\n",
       "        vertical-align: top;\n",
       "    }\n",
       "</style>\n",
       "<table border=\"1\" class=\"dataframe\">\n",
       "  <thead>\n",
       "    <tr style=\"text-align: right;\">\n",
       "      <th></th>\n",
       "      <th>STDs:AIDS</th>\n",
       "      <th>STDs:cervical condylomatosis</th>\n",
       "    </tr>\n",
       "  </thead>\n",
       "  <tbody>\n",
       "    <tr>\n",
       "      <th>count</th>\n",
       "      <td>858.0</td>\n",
       "      <td>858.0</td>\n",
       "    </tr>\n",
       "    <tr>\n",
       "      <th>mean</th>\n",
       "      <td>0.0</td>\n",
       "      <td>0.0</td>\n",
       "    </tr>\n",
       "    <tr>\n",
       "      <th>std</th>\n",
       "      <td>0.0</td>\n",
       "      <td>0.0</td>\n",
       "    </tr>\n",
       "    <tr>\n",
       "      <th>min</th>\n",
       "      <td>0.0</td>\n",
       "      <td>0.0</td>\n",
       "    </tr>\n",
       "    <tr>\n",
       "      <th>25%</th>\n",
       "      <td>0.0</td>\n",
       "      <td>0.0</td>\n",
       "    </tr>\n",
       "    <tr>\n",
       "      <th>50%</th>\n",
       "      <td>0.0</td>\n",
       "      <td>0.0</td>\n",
       "    </tr>\n",
       "    <tr>\n",
       "      <th>75%</th>\n",
       "      <td>0.0</td>\n",
       "      <td>0.0</td>\n",
       "    </tr>\n",
       "    <tr>\n",
       "      <th>max</th>\n",
       "      <td>0.0</td>\n",
       "      <td>0.0</td>\n",
       "    </tr>\n",
       "  </tbody>\n",
       "</table>\n",
       "</div>"
      ],
      "text/plain": [
       "       STDs:AIDS  STDs:cervical condylomatosis\n",
       "count      858.0                         858.0\n",
       "mean         0.0                           0.0\n",
       "std          0.0                           0.0\n",
       "min          0.0                           0.0\n",
       "25%          0.0                           0.0\n",
       "50%          0.0                           0.0\n",
       "75%          0.0                           0.0\n",
       "max          0.0                           0.0"
      ]
     },
     "execution_count": 10,
     "metadata": {},
     "output_type": "execute_result"
    }
   ],
   "source": [
    "data[['STDs:AIDS', 'STDs:cervical condylomatosis']].describe()"
   ]
  },
  {
   "cell_type": "code",
   "execution_count": 11,
   "metadata": {
    "collapsed": true
   },
   "outputs": [],
   "source": [
    "# Delete those useless features\n",
    "data = data.drop(['STDs:AIDS', 'STDs:cervical condylomatosis'], axis=1)\n",
    "X.remove('STDs:AIDS')\n",
    "X.remove('STDs:cervical condylomatosis')"
   ]
  },
  {
   "cell_type": "markdown",
   "metadata": {},
   "source": [
    "Now all the data is complit, no nulls left"
   ]
  },
  {
   "cell_type": "markdown",
   "metadata": {},
   "source": [
    "## Visualization"
   ]
  },
  {
   "cell_type": "markdown",
   "metadata": {},
   "source": [
    "## Check for correlation"
   ]
  },
  {
   "cell_type": "code",
   "execution_count": 12,
   "metadata": {},
   "outputs": [
    {
     "data": {
      "text/plain": [
       "<matplotlib.axes._subplots.AxesSubplot at 0x282f1979630>"
      ]
     },
     "execution_count": 12,
     "metadata": {},
     "output_type": "execute_result"
    },
    {
     "data": {
      "image/png": "[encoded data removed]",
      "text/plain": [
       "<matplotlib.figure.Figure at 0x282f199b668>"
      ]
     },
     "metadata": {},
     "output_type": "display_data"
    }
   ],
   "source": [
    "# among features\n",
    "sns.heatmap(data.corr(), cmap='rainbow')"
   ]
  },
  {
   "cell_type": "code",
   "execution_count": 13,
   "metadata": {},
   "outputs": [
    {
     "data": {
      "text/plain": [
       "<matplotlib.axes._subplots.AxesSubplot at 0x282f1d020f0>"
      ]
     },
     "execution_count": 13,
     "metadata": {},
     "output_type": "execute_result"
    },
    {
     "data": {
      "image/png": "[encoded data removed]",
      "text/plain": [
       "<matplotlib.figure.Figure at 0x282ee11b9b0>"
      ]
     },
     "metadata": {},
     "output_type": "display_data"
    }
   ],
   "source": [
    "# Look closer to region with more correlation\n",
    "sns.heatmap(data[list(data)[11:24]].corr(), cmap='rainbow')"
   ]
  },
  {
   "cell_type": "markdown",
   "metadata": {},
   "source": [
    "Some correlation of high degree is detected. We can drop one of two correlating fields for every pair. "
   ]
  },
  {
   "cell_type": "markdown",
   "metadata": {},
   "source": [
    "There is a lot of corr between <br>\n",
    "1)STDs and STDs (number), <br>\n",
    "2)STDs (number) and STDs:condylomatosis, <br>\n",
    "3)STDs:condylomatosis and STDs:vulvo-perineal condylomatosis, <br>\n",
    "4)STDs (number) and STDs:vulvo-perineal condylomatosis<br>\n",
    "5)STDs and STDs:Number of diagnosis<br>\n",
    "6)STDs (number) and STDs:Number of diagnosis<br>\n",
    "\n",
    "We can drop STDs (number), STDs:vulvo-perineal condylomatosis, STDs:Number of diagnosis"
   ]
  },
  {
   "cell_type": "code",
   "execution_count": 14,
   "metadata": {
    "collapsed": true
   },
   "outputs": [],
   "source": [
    "data=data.drop([\"STDs (number)\", \"STDs:vulvo-perineal condylomatosis\"], axis=1)\n",
    "X.remove(\"STDs (number)\")\n",
    "X.remove(\"STDs:vulvo-perineal condylomatosis\")"
   ]
  },
  {
   "cell_type": "code",
   "execution_count": 15,
   "metadata": {},
   "outputs": [
    {
     "data": {
      "text/plain": [
       "<matplotlib.axes._subplots.AxesSubplot at 0x282f1f94208>"
      ]
     },
     "execution_count": 15,
     "metadata": {},
     "output_type": "execute_result"
    },
    {
     "data": {
      "image/png": "[encoded data removed]",
      "text/plain": [
       "<matplotlib.figure.Figure at 0x282f1fb5278>"
      ]
     },
     "metadata": {},
     "output_type": "display_data"
    }
   ],
   "source": [
    "# Now better:\n",
    "sns.heatmap(data[list(data)[11:22]].corr(), cmap='rainbow')"
   ]
  },
  {
   "cell_type": "markdown",
   "metadata": {},
   "source": [
    "## Look for some interesting findings"
   ]
  },
  {
   "cell_type": "markdown",
   "metadata": {},
   "source": [
    "Does Dx:Cancer correlate with age of patience?"
   ]
  },
  {
   "cell_type": "code",
   "execution_count": 16,
   "metadata": {},
   "outputs": [
    {
     "data": {
      "image/png": "[encoded data removed]",
      "text/plain": [
       "<matplotlib.figure.Figure at 0x282f20a7cc0>"
      ]
     },
     "metadata": {},
     "output_type": "display_data"
    }
   ],
   "source": [
    "fg = sns.FacetGrid(data, hue=\"Dx:Cancer\", aspect=3)\n",
    "fg.map(sns.kdeplot, \"Age\", shade=True).add_legend()\n",
    "fg.set();"
   ]
  },
  {
   "cell_type": "markdown",
   "metadata": {},
   "source": [
    "Cancer appears mostly in 30-35 years"
   ]
  },
  {
   "cell_type": "markdown",
   "metadata": {},
   "source": [
    "How does Hormonal Contraceptives effect on Biopsy results?"
   ]
  },
  {
   "cell_type": "code",
   "execution_count": 17,
   "metadata": {},
   "outputs": [
    {
     "data": {
      "text/plain": [
       "<matplotlib.axes._subplots.AxesSubplot at 0x282f1fd89b0>"
      ]
     },
     "execution_count": 17,
     "metadata": {},
     "output_type": "execute_result"
    },
    {
     "data": {
      "image/png": "[encoded data removed]",
      "text/plain": [
       "<matplotlib.figure.Figure at 0x282f21a4320>"
      ]
     },
     "metadata": {},
     "output_type": "display_data"
    }
   ],
   "source": [
    "data.pivot_table('Age', 'Hormonal Contraceptives', 'Biopsy', 'count').plot(kind='bar', stacked=True)"
   ]
  },
  {
   "cell_type": "markdown",
   "metadata": {},
   "source": [
    "There is no strong correletion between Hormonal Contraceptives and Biopsy results"
   ]
  },
  {
   "cell_type": "markdown",
   "metadata": {},
   "source": [
    "## KNeighborsClassifier"
   ]
  },
  {
   "cell_type": "code",
   "execution_count": 18,
   "metadata": {},
   "outputs": [
    {
     "data": {
      "text/plain": [
       "KNeighborsClassifier(algorithm='auto', leaf_size=30, metric='minkowski',\n",
       "           metric_params=None, n_jobs=1, n_neighbors=10, p=2,\n",
       "           weights='uniform')"
      ]
     },
     "execution_count": 18,
     "metadata": {},
     "output_type": "execute_result"
    }
   ],
   "source": [
    "import sklearn as sk\n",
    "from sklearn.neighbors import KNeighborsClassifier\n",
    "from sklearn.metrics import accuracy_score\n",
    "from sklearn.model_selection import train_test_split\n",
    "#from sklearn.metrics import roc_auc_score\n",
    "#y_true = np.array([0, 0, 1, 1])\n",
    "#y_scores = np.array([0.1, 0.4, 0.35, 0.8])\n",
    "#roc_auc_score(y_true, y_scores)\n",
    "\n",
    "clf_knb = KNeighborsClassifier(n_neighbors=10)\n",
    "\n",
    "X_train, X_test, y_train, y_test = train_test_split(data[X], data[y[0]], test_size=0.33)\n",
    "clf_knb.fit(X_train, y_train)"
   ]
  },
  {
   "cell_type": "code",
   "execution_count": 19,
   "metadata": {},
   "outputs": [
    {
     "name": "stdout",
     "output_type": "stream",
     "text": [
      "Accuracy of prediction on train set is 0.94948\n"
     ]
    }
   ],
   "source": [
    "y_predicted_train_knb = clf_knb.predict(X_train)\n",
    "print('Accuracy of prediction on train set is {}'.format(round(np.mean(y_train == y_predicted_train_knb), 5)))"
   ]
  },
  {
   "cell_type": "code",
   "execution_count": 20,
   "metadata": {},
   "outputs": [
    {
     "name": "stdout",
     "output_type": "stream",
     "text": [
      "Accuracy of prediction on test set is 0.90845\n"
     ]
    }
   ],
   "source": [
    "y_predicted_test_knb = clf_knb.predict(X_test)\n",
    "print('Accuracy of prediction on test set is {}'.format(round(np.mean(y_test == y_predicted_test_knb), 5)))"
   ]
  },
  {
   "cell_type": "code",
   "execution_count": 21,
   "metadata": {},
   "outputs": [
    {
     "data": {
      "text/plain": [
       "<matplotlib.legend.Legend at 0x282f2509a20>"
      ]
     },
     "execution_count": 21,
     "metadata": {},
     "output_type": "execute_result"
    },
    {
     "data": {
      "image/png": "[encoded data removed]",
      "text/plain": [
       "<matplotlib.figure.Figure at 0x282f2499a58>"
      ]
     },
     "metadata": {},
     "output_type": "display_data"
    }
   ],
   "source": [
    "from sklearn.metrics import roc_auc_score\n",
    "# For choosing n_neighbors\n",
    "train_error, test_error = [], []\n",
    "neighbors_range = range(1, 50)\n",
    "for n_neighbors in neighbors_range:\n",
    "    clf = KNeighborsClassifier(n_neighbors=n_neighbors)\n",
    "    clf.fit(X_train, y_train)\n",
    "    train_error.append(roc_auc_score(y_train, clf.predict_proba(X_train)[:, 1]))\n",
    "    test_error.append(roc_auc_score(y_test, clf.predict_proba(X_test)[:, 1]))\n",
    "plt.plot(neighbors_range, train_error, label='train')\n",
    "plt.plot(neighbors_range, test_error, label='test')\n",
    "plt.xlabel('n_neighbors')\n",
    "plt.ylabel('Accuracy of prediction')\n",
    "plt.legend()"
   ]
  },
  {
   "cell_type": "markdown",
   "metadata": {},
   "source": [
    "Best result for roc_auc_score with test data y_test is:"
   ]
  },
  {
   "cell_type": "code",
   "execution_count": 22,
   "metadata": {},
   "outputs": [
    {
     "data": {
      "text/plain": [
       "0.66860465116279078"
      ]
     },
     "execution_count": 22,
     "metadata": {},
     "output_type": "execute_result"
    }
   ],
   "source": [
    "np.max(test_error)"
   ]
  },
  {
   "cell_type": "markdown",
   "metadata": {},
   "source": [
    "## Comparison of different ML models scores"
   ]
  },
  {
   "cell_type": "markdown",
   "metadata": {},
   "source": [
    "## Cross-validation"
   ]
  },
  {
   "cell_type": "code",
   "execution_count": 23,
   "metadata": {
    "collapsed": true
   },
   "outputs": [],
   "source": [
    "from sklearn.linear_model import LogisticRegression\n",
    "clf_lr = LogisticRegression()"
   ]
  },
  {
   "cell_type": "code",
   "execution_count": 24,
   "metadata": {},
   "outputs": [
    {
     "name": "stdout",
     "output_type": "stream",
     "text": [
      "roc_auc_score of KN  prediction is 0.56194\n",
      "roc_auc_score of LR  prediction is 0.94082\n"
     ]
    }
   ],
   "source": [
    "from sklearn.model_selection import GridSearchCV\n",
    "from sklearn.model_selection import cross_val_score\n",
    "clf_knb.fit(X_train, y_train)\n",
    "clf_lr.fit(X_train, y_train)\n",
    "print('roc_auc_score of KN  prediction is {}'.format(round(np.mean(roc_auc_score(y_test,clf_knb.predict_proba(X_test)[:, 1])), 5)))\n",
    "print('roc_auc_score of LR  prediction is {}'.format(round(np.mean(roc_auc_score(y_test,clf_lr.predict_proba(X_test)[:, 1])), 5)))"
   ]
  },
  {
   "cell_type": "markdown",
   "metadata": {},
   "source": [
    "## Conclusions\n",
    "Cervical cancer was predicted during this work  using a set of demographic characteristics and medical tests.\n",
    "\n",
    "The dataset contained a feature with 'STDs: Time since first diagnosis' and 'STDs: Time since last diagnosis', which contains a little information. This allowed to drop these columns for better results.\n",
    "\n",
    "There were four classes of canser tests (Hinselmann, Schiller, Cytology, Biopsy). The Biopsy is the most accurate, so I choose it for target variable.\n",
    "\n",
    "Visualisation showed, that cancer appears mostly in 30-35 years. And there is no strong correletion between Hormonal Contraceptives and Biopsy results.\n",
    "\n",
    "A correlations between different variables was found and visualized:\n",
    "1)STDs and STDs (number), \n",
    "2)STDs (number) and STDs:condylomatosis, \n",
    "3)STDs:condylomatosis and STDs:vulvo-perineal condylomatosis, (Maybe because condylomatosis contains a huge number of vulvo-perineal condylomatosis)\n",
    "4)STDs (number) and STDs:vulvo-perineal condylomatosis\n",
    "5)STDs and STDs:Number of diagnosis\n",
    "6)STDs (number) and STDs:Number of diagnosis\n",
    "\n",
    "Three ML models were used, hyperparameters were chosen with GridSearch. The most resultative ML model is LR model. Cross Validation was used for indentifying best model.\n",
    "\n",
    "K neighbors and Logistic Regression were used.\n",
    "\n",
    "Logistic Regression has shown better results in terms of roc_auc_score.\n",
    "\n",
    "For cross-validation roc_auc_score was used, because it workes well with unbalanced data, like our targets.\n",
    "We have also analised accuracy_score and have seen, that it gives big values. It is because target data is unbalanced. The prediction in this case is almost always right even when recall is zero, or low."
   ]
  }
 ],
 "metadata": {
  "kernelspec": {
   "display_name": "Python 3",
   "language": "python",
   "name": "python3"
  },
  "language_info": {
   "codemirror_mode": {
    "name": "ipython",
    "version": 3
   },
   "file_extension": ".py",
   "mimetype": "text/x-python",
   "name": "python",
   "nbconvert_exporter": "python",
   "pygments_lexer": "ipython3",
   "version": "3.6.2"
  }
 },
 "nbformat": 4,
 "nbformat_minor": 2
}
